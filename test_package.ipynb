{
 "cells": [
  {
   "cell_type": "code",
   "execution_count": 26,
   "metadata": {},
   "outputs": [],
   "source": [
    "# compile a C module\n",
    "!python setup.py build"
   ]
  },
  {
   "cell_type": "code",
   "execution_count": 27,
   "metadata": {},
   "outputs": [
    {
     "name": "stdout",
     "output_type": "stream",
     "text": [
      "Obtaining file:///Users/michal/Development/c-extensions-python\n",
      "  Preparing metadata (setup.py) ... \u001b[?25ldone\n",
      "\u001b[?25hInstalling collected packages: my-library\n",
      "  Attempting uninstall: my-library\n",
      "    Found existing installation: my-library 1.0.0\n",
      "    Uninstalling my-library-1.0.0:\n",
      "      Successfully uninstalled my-library-1.0.0\n",
      "  Running setup.py develop for my-library\n",
      "Successfully installed my-library-1.0.0\n"
     ]
    }
   ],
   "source": [
    "# install a C module\n",
    "!pip install -e ."
   ]
  },
  {
   "cell_type": "code",
   "execution_count": 40,
   "metadata": {},
   "outputs": [
    {
     "data": {
      "text/plain": [
       "4"
      ]
     },
     "execution_count": 40,
     "metadata": {},
     "output_type": "execute_result"
    }
   ],
   "source": [
    "# test its functionality\n",
    "import mylib\n",
    "mylib.fputs(\"DUPA\", \"XD.txt\")\n"
   ]
  },
  {
   "cell_type": "code",
   "execution_count": 41,
   "metadata": {},
   "outputs": [
    {
     "name": "stdout",
     "output_type": "stream",
     "text": [
      "Found existing installation: my-library 1.0.0\n",
      "Uninstalling my-library-1.0.0:\n",
      "  Successfully uninstalled my-library-1.0.0\n"
     ]
    }
   ],
   "source": [
    "# clean up the environment\n",
    "!pip uninstall my-library -y\n",
    "!sh cleanup.sh"
   ]
  },
  {
   "cell_type": "code",
   "execution_count": null,
   "metadata": {},
   "outputs": [],
   "source": []
  }
 ],
 "metadata": {
  "kernelspec": {
   "display_name": "miniconda3",
   "language": "python",
   "name": "miniconda3"
  },
  "language_info": {
   "codemirror_mode": {
    "name": "ipython",
    "version": 3
   },
   "file_extension": ".py",
   "mimetype": "text/x-python",
   "name": "python",
   "nbconvert_exporter": "python",
   "pygments_lexer": "ipython3",
   "version": "3.10.9"
  },
  "orig_nbformat": 4
 },
 "nbformat": 4,
 "nbformat_minor": 2
}
